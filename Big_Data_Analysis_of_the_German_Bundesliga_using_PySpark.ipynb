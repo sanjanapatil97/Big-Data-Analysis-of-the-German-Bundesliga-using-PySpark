{
  "cells": [
    {
      "cell_type": "markdown",
      "source": [
        "# Big Data Analysis using Pyspark\n",
        "\n",
        "Exploring the dataset using pyspark:\n",
        "1. Who are the winners of the D1 division in the Germany Football Association (Bundesliga) in the\n",
        "last decade?\n",
        "2. Which teams have been relegated in the past 10 years?\n",
        "3. Which season of Bundesliga was the most competitive in the last decade?\n",
        "4. What's the best month to watch Bundesliga?"
      ],
      "metadata": {
        "id": "RwPA9uURbGrr"
      }
    },
    {
      "cell_type": "code",
      "source": [
        "from google.colab import drive\n",
        "drive.mount('/content/drive')"
      ],
      "metadata": {
        "colab": {
          "base_uri": "https://localhost:8080/"
        },
        "id": "LbhxMzn5Rjyj",
        "outputId": "817256bc-af1d-4d2f-c391-68d8cb9772b0"
      },
      "execution_count": null,
      "outputs": [
        {
          "output_type": "stream",
          "name": "stdout",
          "text": [
            "Drive already mounted at /content/drive; to attempt to forcibly remount, call drive.mount(\"/content/drive\", force_remount=True).\n"
          ]
        }
      ]
    },
    {
      "cell_type": "code",
      "source": [
        "import pandas as pd\n",
        "import numpy as np"
      ],
      "metadata": {
        "id": "vk3oElvRR8vx"
      },
      "execution_count": null,
      "outputs": []
    },
    {
      "cell_type": "code",
      "source": [
        "!pip install -U pyspark"
      ],
      "metadata": {
        "colab": {
          "base_uri": "https://localhost:8080/"
        },
        "id": "sJcAQn5tVg0K",
        "outputId": "250a4d29-9e20-4f85-f43a-914440f1ee1d"
      },
      "execution_count": null,
      "outputs": [
        {
          "output_type": "stream",
          "name": "stdout",
          "text": [
            "Collecting pyspark\n",
            "  Downloading pyspark-3.5.0.tar.gz (316.9 MB)\n",
            "\u001b[2K     \u001b[90m━━━━━━━━━━━━━━━━━━━━━━━━━━━━━━━━━━━━━━━━\u001b[0m \u001b[32m316.9/316.9 MB\u001b[0m \u001b[31m4.2 MB/s\u001b[0m eta \u001b[36m0:00:00\u001b[0m\n",
            "\u001b[?25h  Preparing metadata (setup.py) ... \u001b[?25l\u001b[?25hdone\n",
            "Requirement already satisfied: py4j==0.10.9.7 in /usr/local/lib/python3.10/dist-packages (from pyspark) (0.10.9.7)\n",
            "Building wheels for collected packages: pyspark\n",
            "  Building wheel for pyspark (setup.py) ... \u001b[?25l\u001b[?25hdone\n",
            "  Created wheel for pyspark: filename=pyspark-3.5.0-py2.py3-none-any.whl size=317425344 sha256=eda2382701fc13ebc7703024f4424396b82a384745413fa17c55e6c88bff8053\n",
            "  Stored in directory: /root/.cache/pip/wheels/41/4e/10/c2cf2467f71c678cfc8a6b9ac9241e5e44a01940da8fbb17fc\n",
            "Successfully built pyspark\n",
            "Installing collected packages: pyspark\n",
            "Successfully installed pyspark-3.5.0\n"
          ]
        }
      ]
    },
    {
      "cell_type": "code",
      "source": [
        "import pyspark\n",
        "from pyspark.sql import SparkSession"
      ],
      "metadata": {
        "id": "KbP4ho-yVlvi"
      },
      "execution_count": null,
      "outputs": []
    },
    {
      "cell_type": "code",
      "source": [
        "spark = SparkSession.builder.appName('Football Association').getOrCreate()"
      ],
      "metadata": {
        "id": "5DuDmF0uVziq"
      },
      "execution_count": null,
      "outputs": []
    },
    {
      "cell_type": "code",
      "source": [
        "matches = spark.read.format('csv').option('inferSchema',True).option('header',True).load('/content/drive/MyDrive/Football_Association/Matches.csv')"
      ],
      "metadata": {
        "id": "Ke5D9jbWRmF-"
      },
      "execution_count": null,
      "outputs": []
    },
    {
      "cell_type": "code",
      "source": [
        "matches.show()"
      ],
      "metadata": {
        "id": "jprpI-bUjodX",
        "colab": {
          "base_uri": "https://localhost:8080/"
        },
        "outputId": "c240bda3-b2dd-4a3b-eb34-7e3fdecebd0c"
      },
      "execution_count": null,
      "outputs": [
        {
          "output_type": "stream",
          "name": "stdout",
          "text": [
            "+--------+---+------+----------+------------------+--------------+----+----+---+\n",
            "|Match_ID|Div|Season|      Date|          HomeTeam|      AwayTeam|FTHG|FTAG|FTR|\n",
            "+--------+---+------+----------+------------------+--------------+----+----+---+\n",
            "|       1| D2|  2009|2010-04-04|        Oberhausen|Kaiserslautern|   2|   1|  H|\n",
            "|       2| D2|  2009|2009-11-01|       Munich 1860|Kaiserslautern|   0|   1|  A|\n",
            "|       3| D2|  2009|2009-10-04|     Frankfurt FSV|Kaiserslautern|   1|   1|  D|\n",
            "|       4| D2|  2009|2010-02-21|     Frankfurt FSV|     Karlsruhe|   2|   1|  H|\n",
            "|       5| D2|  2009|2009-12-06|             Ahlen|     Karlsruhe|   1|   3|  A|\n",
            "|       6| D2|  2009|2010-04-03|      Union Berlin|     Karlsruhe|   1|   1|  D|\n",
            "|       7| D2|  2009|2009-08-14|         Paderborn|     Karlsruhe|   2|   0|  H|\n",
            "|       8| D2|  2009|2010-03-08|         Bielefeld|     Karlsruhe|   0|   1|  A|\n",
            "|       9| D2|  2009|2009-09-26|    Kaiserslautern|     Karlsruhe|   2|   0|  H|\n",
            "|      10| D2|  2009|2009-11-21|     Hansa Rostock|     Karlsruhe|   2|   1|  H|\n",
            "|      11| D2|  2009|2009-12-19|    Greuther Furth|     Karlsruhe|   1|   4|  A|\n",
            "|      12| D2|  2009|2010-04-16|           Koblenz|     Karlsruhe|   2|   2|  D|\n",
            "|      13| D2|  2009|2010-03-21|        Oberhausen|     Karlsruhe|   1|   0|  H|\n",
            "|      14| D2|  2009|2009-09-14|           Cottbus|     Karlsruhe|   2|   4|  A|\n",
            "|      15| D2|  2009|2010-05-02|          Duisburg|     Karlsruhe|   0|   1|  A|\n",
            "|      16| D2|  2009|2009-10-30|Fortuna Dusseldorf|     Karlsruhe|   1|   0|  H|\n",
            "|      17| D2|  2009|2010-01-15|            Aachen|     Karlsruhe|   3|   1|  H|\n",
            "|      18| D2|  2009|2009-10-18|          Augsburg|     Karlsruhe|   1|   1|  D|\n",
            "|      19| D2|  2009|2010-02-05|          St Pauli|     Karlsruhe|   2|   1|  H|\n",
            "|      20| D2|  2009|2009-08-24|       Munich 1860|     Karlsruhe|   1|   3|  A|\n",
            "+--------+---+------+----------+------------------+--------------+----+----+---+\n",
            "only showing top 20 rows\n",
            "\n"
          ]
        }
      ]
    },
    {
      "cell_type": "code",
      "source": [
        "teams = spark.read.format('csv').option('inferSchema',True).option('header',True).load('/content/drive/MyDrive/Football_Association/Teams.csv')"
      ],
      "metadata": {
        "id": "Ff865mdkVLgl"
      },
      "execution_count": null,
      "outputs": []
    },
    {
      "cell_type": "code",
      "source": [
        "teams.show()"
      ],
      "metadata": {
        "id": "YNuzJelDmRDE",
        "colab": {
          "base_uri": "https://localhost:8080/"
        },
        "outputId": "b6e16030-cd45-48d6-81db-8b3345c732a7"
      },
      "execution_count": null,
      "outputs": [
        {
          "output_type": "stream",
          "name": "stdout",
          "text": [
            "+------+-------------+---------+----------+------------------+----------------------+------------------+---------------+\n",
            "|Season|     TeamName|KaderHome|AvgAgeHome|ForeignPlayersHome|OverallMarketValueHome|AvgMarketValueHome|StadiumCapacity|\n",
            "+------+-------------+---------+----------+------------------+----------------------+------------------+---------------+\n",
            "|  2017|Bayern Munich|       27|        26|                15|             597950000|          22150000|          75000|\n",
            "|  2017|     Dortmund|       33|        25|                18|             416730000|          12630000|          81359|\n",
            "|  2017|   Leverkusen|       31|        24|                15|             222600000|           7180000|          30210|\n",
            "|  2017|   RB Leipzig|       30|        23|                15|             180130000|           6000000|          42959|\n",
            "|  2017|   Schalke 04|       29|        24|                17|             179550000|           6190000|          62271|\n",
            "|  2017|   M'gladbach|       31|        25|                17|             154400000|           4980000|          54014|\n",
            "|  2017|    Wolfsburg|       31|        24|                14|             124430000|           4010000|          30000|\n",
            "|  2017|      FC Koln|       24|        26|                 9|             118550000|           4940000|          49968|\n",
            "|  2017|   Hoffenheim|       31|        24|                14|             107330000|           3460000|          30164|\n",
            "|  2017|       Hertha|       26|        26|                12|              86800000|           3340000|          74475|\n",
            "|  2017|        Mainz|       31|        25|                16|              71950000|           2320000|          34000|\n",
            "|  2017|      Hamburg|       31|        25|                15|              71550000|           2310000|          57376|\n",
            "|  2017|Werder Bremen|       32|        26|                19|              69450000|           2170000|          42100|\n",
            "|  2017|Ein Frankfurt|       34|        24|                18|              67100000|           1970000|          51500|\n",
            "|  2017|     Augsburg|       36|        26|                20|              63100000|           1750000|          30660|\n",
            "|  2017|     Freiburg|       26|        26|                 8|              57730000|           2220000|          24000|\n",
            "|  2017|    Stuttgart|       24|        24|                16|              44750000|           1860000|          60449|\n",
            "|  2017|     Hannover|       31|        25|                13|              43100000|           1390000|          49200|\n",
            "|  2016|Bayern Munich|       33|        25|                18|             595400000|          18040000|          75000|\n",
            "|  2016|     Dortmund|       32|        24|                17|             321550000|          10050000|          81359|\n",
            "+------+-------------+---------+----------+------------------+----------------------+------------------+---------------+\n",
            "only showing top 20 rows\n",
            "\n"
          ]
        }
      ]
    },
    {
      "cell_type": "code",
      "source": [
        "teams_in_matches = spark.read.format('csv').option('inferSchema',True).option('header',True).load('/content/drive/MyDrive/Football_Association/Teams_in_Matches.csv')"
      ],
      "metadata": {
        "id": "ysrhGiU1jDMf"
      },
      "execution_count": null,
      "outputs": []
    },
    {
      "cell_type": "code",
      "source": [
        "teams_in_matches.show()"
      ],
      "metadata": {
        "id": "1EU7k7GPn1ya",
        "colab": {
          "base_uri": "https://localhost:8080/"
        },
        "outputId": "640172ac-9531-4546-8eb5-80c8a51e83ab"
      },
      "execution_count": null,
      "outputs": [
        {
          "output_type": "stream",
          "name": "stdout",
          "text": [
            "+--------+--------------+\n",
            "|Match_ID|Unique_Team_ID|\n",
            "+--------+--------------+\n",
            "|       1|            26|\n",
            "|       1|            46|\n",
            "|       2|            26|\n",
            "|       2|            42|\n",
            "|       3|            26|\n",
            "|       3|            44|\n",
            "|       4|            29|\n",
            "|       4|            44|\n",
            "|       5|            29|\n",
            "|       5|            49|\n",
            "|       6|            29|\n",
            "|       6|            35|\n",
            "|       7|            21|\n",
            "|       7|            29|\n",
            "|       8|            29|\n",
            "|       8|            30|\n",
            "|       9|            26|\n",
            "|       9|            29|\n",
            "|      10|            29|\n",
            "|      10|            33|\n",
            "+--------+--------------+\n",
            "only showing top 20 rows\n",
            "\n"
          ]
        }
      ]
    },
    {
      "cell_type": "code",
      "source": [
        "unique_teams = spark.read.format('csv').option('inferSchema',True).option('header',True).load('/content/drive/MyDrive/Football_Association/Unique_Teams.csv')"
      ],
      "metadata": {
        "id": "cDfPmLuajKhG"
      },
      "execution_count": null,
      "outputs": []
    },
    {
      "cell_type": "code",
      "source": [
        "unique_teams.show()"
      ],
      "metadata": {
        "id": "sv4hwyvun6KI",
        "colab": {
          "base_uri": "https://localhost:8080/"
        },
        "outputId": "940b48ec-cb35-4402-e752-f0c5491f3037"
      },
      "execution_count": null,
      "outputs": [
        {
          "output_type": "stream",
          "name": "stdout",
          "text": [
            "+-------------+--------------+\n",
            "|     TeamName|Unique_Team_ID|\n",
            "+-------------+--------------+\n",
            "|Bayern Munich|             1|\n",
            "|     Dortmund|             2|\n",
            "|   Leverkusen|             3|\n",
            "|   RB Leipzig|             4|\n",
            "|   Schalke 04|             5|\n",
            "|   M'gladbach|             6|\n",
            "|    Wolfsburg|             7|\n",
            "|      FC Koln|             8|\n",
            "|   Hoffenheim|             9|\n",
            "|       Hertha|            10|\n",
            "|        Mainz|            11|\n",
            "|      Hamburg|            12|\n",
            "|Werder Bremen|            13|\n",
            "|Ein Frankfurt|            14|\n",
            "|     Augsburg|            15|\n",
            "|     Freiburg|            16|\n",
            "|    Stuttgart|            17|\n",
            "|     Hannover|            18|\n",
            "|   Ingolstadt|            19|\n",
            "|    Darmstadt|            20|\n",
            "+-------------+--------------+\n",
            "only showing top 20 rows\n",
            "\n"
          ]
        }
      ]
    },
    {
      "cell_type": "markdown",
      "source": [
        "# joining teams_in_matches and unique_Team ON Unique_Team_ID"
      ],
      "metadata": {
        "id": "gpFFT96OlNwe"
      }
    },
    {
      "cell_type": "code",
      "source": [
        "team_1 = teams_in_matches.join(unique_teams,\n",
        "                                     teams_in_matches.Unique_Team_ID == unique_teams.Unique_Team_ID,\n",
        "                                     \"leftouter\")"
      ],
      "metadata": {
        "id": "pQiKurJ5manB"
      },
      "execution_count": null,
      "outputs": []
    },
    {
      "cell_type": "code",
      "source": [
        "team_1.show()"
      ],
      "metadata": {
        "id": "D1DUGCXgghLA",
        "colab": {
          "base_uri": "https://localhost:8080/"
        },
        "outputId": "3ee85dc0-b888-4226-f9db-5ab802915e63"
      },
      "execution_count": null,
      "outputs": [
        {
          "output_type": "stream",
          "name": "stdout",
          "text": [
            "+--------+--------------+--------------+--------------+\n",
            "|Match_ID|Unique_Team_ID|      TeamName|Unique_Team_ID|\n",
            "+--------+--------------+--------------+--------------+\n",
            "|       1|            26|Kaiserslautern|            26|\n",
            "|       1|            46|    Oberhausen|            46|\n",
            "|       2|            26|Kaiserslautern|            26|\n",
            "|       2|            42|   Munich 1860|            42|\n",
            "|       3|            26|Kaiserslautern|            26|\n",
            "|       3|            44| Frankfurt FSV|            44|\n",
            "|       4|            29|     Karlsruhe|            29|\n",
            "|       4|            44| Frankfurt FSV|            44|\n",
            "|       5|            29|     Karlsruhe|            29|\n",
            "|       5|            49|         Ahlen|            49|\n",
            "|       6|            29|     Karlsruhe|            29|\n",
            "|       6|            35|  Union Berlin|            35|\n",
            "|       7|            21|     Paderborn|            21|\n",
            "|       7|            29|     Karlsruhe|            29|\n",
            "|       8|            29|     Karlsruhe|            29|\n",
            "|       8|            30|     Bielefeld|            30|\n",
            "|       9|            26|Kaiserslautern|            26|\n",
            "|       9|            29|     Karlsruhe|            29|\n",
            "|      10|            29|     Karlsruhe|            29|\n",
            "|      10|            33| Hansa Rostock|            33|\n",
            "+--------+--------------+--------------+--------------+\n",
            "only showing top 20 rows\n",
            "\n"
          ]
        }
      ]
    },
    {
      "cell_type": "code",
      "source": [
        "columns_to_drop = [unique_teams[\"Unique_Team_ID\"]]\n",
        "team_details = team_1.drop(*columns_to_drop)"
      ],
      "metadata": {
        "id": "Qch2GiyipquR"
      },
      "execution_count": null,
      "outputs": []
    },
    {
      "cell_type": "code",
      "source": [
        "team_details.show()"
      ],
      "metadata": {
        "id": "CjScoCHZiWDY",
        "colab": {
          "base_uri": "https://localhost:8080/"
        },
        "outputId": "208f2218-a28c-46ae-e8b4-b2124e3fb6f5"
      },
      "execution_count": null,
      "outputs": [
        {
          "output_type": "stream",
          "name": "stdout",
          "text": [
            "+--------+--------------+--------------+\n",
            "|Match_ID|Unique_Team_ID|      TeamName|\n",
            "+--------+--------------+--------------+\n",
            "|       1|            26|Kaiserslautern|\n",
            "|       1|            46|    Oberhausen|\n",
            "|       2|            26|Kaiserslautern|\n",
            "|       2|            42|   Munich 1860|\n",
            "|       3|            26|Kaiserslautern|\n",
            "|       3|            44| Frankfurt FSV|\n",
            "|       4|            29|     Karlsruhe|\n",
            "|       4|            44| Frankfurt FSV|\n",
            "|       5|            29|     Karlsruhe|\n",
            "|       5|            49|         Ahlen|\n",
            "|       6|            29|     Karlsruhe|\n",
            "|       6|            35|  Union Berlin|\n",
            "|       7|            21|     Paderborn|\n",
            "|       7|            29|     Karlsruhe|\n",
            "|       8|            29|     Karlsruhe|\n",
            "|       8|            30|     Bielefeld|\n",
            "|       9|            26|Kaiserslautern|\n",
            "|       9|            29|     Karlsruhe|\n",
            "|      10|            29|     Karlsruhe|\n",
            "|      10|            33| Hansa Rostock|\n",
            "+--------+--------------+--------------+\n",
            "only showing top 20 rows\n",
            "\n"
          ]
        }
      ]
    },
    {
      "cell_type": "markdown",
      "source": [
        "# joining matches and team_details ON Match_ID"
      ],
      "metadata": {
        "id": "KLMjA-kVlERc"
      }
    },
    {
      "cell_type": "code",
      "source": [
        "matches_team_details_1 = matches.join(team_details,\n",
        "                                    matches.Match_ID == team_details.Match_ID, \"leftouter\")"
      ],
      "metadata": {
        "id": "G26CBR_IivMO"
      },
      "execution_count": null,
      "outputs": []
    },
    {
      "cell_type": "code",
      "source": [
        "matches_team_details_1.show()"
      ],
      "metadata": {
        "id": "367n2MIgk4WM",
        "colab": {
          "base_uri": "https://localhost:8080/"
        },
        "outputId": "8f58c70f-c275-4e35-84b4-6d3b300841a5"
      },
      "execution_count": null,
      "outputs": [
        {
          "output_type": "stream",
          "name": "stdout",
          "text": [
            "+--------+---+------+----------+--------------+--------------+----+----+---+--------+--------------+--------------+\n",
            "|Match_ID|Div|Season|      Date|      HomeTeam|      AwayTeam|FTHG|FTAG|FTR|Match_ID|Unique_Team_ID|      TeamName|\n",
            "+--------+---+------+----------+--------------+--------------+----+----+---+--------+--------------+--------------+\n",
            "|       1| D2|  2009|2010-04-04|    Oberhausen|Kaiserslautern|   2|   1|  H|       1|            26|Kaiserslautern|\n",
            "|       1| D2|  2009|2010-04-04|    Oberhausen|Kaiserslautern|   2|   1|  H|       1|            46|    Oberhausen|\n",
            "|       2| D2|  2009|2009-11-01|   Munich 1860|Kaiserslautern|   0|   1|  A|       2|            26|Kaiserslautern|\n",
            "|       2| D2|  2009|2009-11-01|   Munich 1860|Kaiserslautern|   0|   1|  A|       2|            42|   Munich 1860|\n",
            "|       3| D2|  2009|2009-10-04| Frankfurt FSV|Kaiserslautern|   1|   1|  D|       3|            26|Kaiserslautern|\n",
            "|       3| D2|  2009|2009-10-04| Frankfurt FSV|Kaiserslautern|   1|   1|  D|       3|            44| Frankfurt FSV|\n",
            "|       4| D2|  2009|2010-02-21| Frankfurt FSV|     Karlsruhe|   2|   1|  H|       4|            29|     Karlsruhe|\n",
            "|       4| D2|  2009|2010-02-21| Frankfurt FSV|     Karlsruhe|   2|   1|  H|       4|            44| Frankfurt FSV|\n",
            "|       5| D2|  2009|2009-12-06|         Ahlen|     Karlsruhe|   1|   3|  A|       5|            29|     Karlsruhe|\n",
            "|       5| D2|  2009|2009-12-06|         Ahlen|     Karlsruhe|   1|   3|  A|       5|            49|         Ahlen|\n",
            "|       6| D2|  2009|2010-04-03|  Union Berlin|     Karlsruhe|   1|   1|  D|       6|            29|     Karlsruhe|\n",
            "|       6| D2|  2009|2010-04-03|  Union Berlin|     Karlsruhe|   1|   1|  D|       6|            35|  Union Berlin|\n",
            "|       7| D2|  2009|2009-08-14|     Paderborn|     Karlsruhe|   2|   0|  H|       7|            21|     Paderborn|\n",
            "|       7| D2|  2009|2009-08-14|     Paderborn|     Karlsruhe|   2|   0|  H|       7|            29|     Karlsruhe|\n",
            "|       8| D2|  2009|2010-03-08|     Bielefeld|     Karlsruhe|   0|   1|  A|       8|            29|     Karlsruhe|\n",
            "|       8| D2|  2009|2010-03-08|     Bielefeld|     Karlsruhe|   0|   1|  A|       8|            30|     Bielefeld|\n",
            "|       9| D2|  2009|2009-09-26|Kaiserslautern|     Karlsruhe|   2|   0|  H|       9|            26|Kaiserslautern|\n",
            "|       9| D2|  2009|2009-09-26|Kaiserslautern|     Karlsruhe|   2|   0|  H|       9|            29|     Karlsruhe|\n",
            "|      10| D2|  2009|2009-11-21| Hansa Rostock|     Karlsruhe|   2|   1|  H|      10|            29|     Karlsruhe|\n",
            "|      10| D2|  2009|2009-11-21| Hansa Rostock|     Karlsruhe|   2|   1|  H|      10|            33| Hansa Rostock|\n",
            "+--------+---+------+----------+--------------+--------------+----+----+---+--------+--------------+--------------+\n",
            "only showing top 20 rows\n",
            "\n"
          ]
        }
      ]
    },
    {
      "cell_type": "code",
      "source": [
        "columns_to_drop_1 = [team_details[\"Match_ID\"]]\n",
        "matches_team_details = matches_team_details_1.drop(*columns_to_drop_1)"
      ],
      "metadata": {
        "id": "trLlJdA5lcQV"
      },
      "execution_count": null,
      "outputs": []
    },
    {
      "cell_type": "code",
      "source": [
        "matches_team_details.show()"
      ],
      "metadata": {
        "id": "UyyU0xqEmHpI",
        "colab": {
          "base_uri": "https://localhost:8080/"
        },
        "outputId": "4591b112-1878-48aa-b425-4714ea4ba975"
      },
      "execution_count": null,
      "outputs": [
        {
          "output_type": "stream",
          "name": "stdout",
          "text": [
            "+--------+---+------+----------+--------------+--------------+----+----+---+--------------+--------------+\n",
            "|Match_ID|Div|Season|      Date|      HomeTeam|      AwayTeam|FTHG|FTAG|FTR|Unique_Team_ID|      TeamName|\n",
            "+--------+---+------+----------+--------------+--------------+----+----+---+--------------+--------------+\n",
            "|       1| D2|  2009|2010-04-04|    Oberhausen|Kaiserslautern|   2|   1|  H|            26|Kaiserslautern|\n",
            "|       1| D2|  2009|2010-04-04|    Oberhausen|Kaiserslautern|   2|   1|  H|            46|    Oberhausen|\n",
            "|       2| D2|  2009|2009-11-01|   Munich 1860|Kaiserslautern|   0|   1|  A|            26|Kaiserslautern|\n",
            "|       2| D2|  2009|2009-11-01|   Munich 1860|Kaiserslautern|   0|   1|  A|            42|   Munich 1860|\n",
            "|       3| D2|  2009|2009-10-04| Frankfurt FSV|Kaiserslautern|   1|   1|  D|            26|Kaiserslautern|\n",
            "|       3| D2|  2009|2009-10-04| Frankfurt FSV|Kaiserslautern|   1|   1|  D|            44| Frankfurt FSV|\n",
            "|       4| D2|  2009|2010-02-21| Frankfurt FSV|     Karlsruhe|   2|   1|  H|            29|     Karlsruhe|\n",
            "|       4| D2|  2009|2010-02-21| Frankfurt FSV|     Karlsruhe|   2|   1|  H|            44| Frankfurt FSV|\n",
            "|       5| D2|  2009|2009-12-06|         Ahlen|     Karlsruhe|   1|   3|  A|            29|     Karlsruhe|\n",
            "|       5| D2|  2009|2009-12-06|         Ahlen|     Karlsruhe|   1|   3|  A|            49|         Ahlen|\n",
            "|       6| D2|  2009|2010-04-03|  Union Berlin|     Karlsruhe|   1|   1|  D|            29|     Karlsruhe|\n",
            "|       6| D2|  2009|2010-04-03|  Union Berlin|     Karlsruhe|   1|   1|  D|            35|  Union Berlin|\n",
            "|       7| D2|  2009|2009-08-14|     Paderborn|     Karlsruhe|   2|   0|  H|            21|     Paderborn|\n",
            "|       7| D2|  2009|2009-08-14|     Paderborn|     Karlsruhe|   2|   0|  H|            29|     Karlsruhe|\n",
            "|       8| D2|  2009|2010-03-08|     Bielefeld|     Karlsruhe|   0|   1|  A|            29|     Karlsruhe|\n",
            "|       8| D2|  2009|2010-03-08|     Bielefeld|     Karlsruhe|   0|   1|  A|            30|     Bielefeld|\n",
            "|       9| D2|  2009|2009-09-26|Kaiserslautern|     Karlsruhe|   2|   0|  H|            26|Kaiserslautern|\n",
            "|       9| D2|  2009|2009-09-26|Kaiserslautern|     Karlsruhe|   2|   0|  H|            29|     Karlsruhe|\n",
            "|      10| D2|  2009|2009-11-21| Hansa Rostock|     Karlsruhe|   2|   1|  H|            29|     Karlsruhe|\n",
            "|      10| D2|  2009|2009-11-21| Hansa Rostock|     Karlsruhe|   2|   1|  H|            33| Hansa Rostock|\n",
            "+--------+---+------+----------+--------------+--------------+----+----+---+--------------+--------------+\n",
            "only showing top 20 rows\n",
            "\n"
          ]
        }
      ]
    },
    {
      "cell_type": "markdown",
      "source": [
        "# 1. Who are the winners of the D1 division in the Germany Football Association (Bundesliga) in the last decade?"
      ],
      "metadata": {
        "id": "HOarJWqPnNGu"
      }
    },
    {
      "cell_type": "code",
      "source": [
        "division_D1 = matches_team_details.filter(matches_team_details.Div == 'D1')"
      ],
      "metadata": {
        "id": "RMsONSUYmizx"
      },
      "execution_count": null,
      "outputs": []
    },
    {
      "cell_type": "code",
      "source": [
        "division_D1.show()"
      ],
      "metadata": {
        "id": "KNyw4U-vn7y9",
        "colab": {
          "base_uri": "https://localhost:8080/"
        },
        "outputId": "7804d560-237f-4b17-9474-372c28f57f9a"
      },
      "execution_count": null,
      "outputs": [
        {
          "output_type": "stream",
          "name": "stdout",
          "text": [
            "+--------+---+------+----------+-------------+----------+----+----+---+--------------+-------------+\n",
            "|Match_ID|Div|Season|      Date|     HomeTeam|  AwayTeam|FTHG|FTAG|FTR|Unique_Team_ID|     TeamName|\n",
            "+--------+---+------+----------+-------------+----------+----+----+---+--------------+-------------+\n",
            "|      21| D1|  2009|2010-02-06|       Bochum|Leverkusen|   1|   1|  D|             3|   Leverkusen|\n",
            "|      21| D1|  2009|2010-02-06|       Bochum|Leverkusen|   1|   1|  D|            28|       Bochum|\n",
            "|      22| D1|  2009|2009-11-22|Bayern Munich|Leverkusen|   1|   1|  D|             1|Bayern Munich|\n",
            "|      22| D1|  2009|2009-11-22|Bayern Munich|Leverkusen|   1|   1|  D|             3|   Leverkusen|\n",
            "|      23| D1|  2009|2010-05-08|   M'gladbach|Leverkusen|   1|   1|  D|             3|   Leverkusen|\n",
            "|      23| D1|  2009|2010-05-08|   M'gladbach|Leverkusen|   1|   1|  D|             6|   M'gladbach|\n",
            "|      24| D1|  2009|2009-08-08|        Mainz|Leverkusen|   2|   2|  D|             3|   Leverkusen|\n",
            "|      24| D1|  2009|2009-08-08|        Mainz|Leverkusen|   2|   2|  D|            11|        Mainz|\n",
            "|      25| D1|  2009|2009-10-17|      Hamburg|Leverkusen|   0|   0|  D|             3|   Leverkusen|\n",
            "|      25| D1|  2009|2009-10-17|      Hamburg|Leverkusen|   0|   0|  D|            12|      Hamburg|\n",
            "|      26| D1|  2009|2010-04-17|    Stuttgart|Leverkusen|   2|   1|  H|             3|   Leverkusen|\n",
            "|      26| D1|  2009|2010-04-17|    Stuttgart|Leverkusen|   2|   1|  H|            17|    Stuttgart|\n",
            "|      27| D1|  2009|2010-03-20|     Dortmund|Leverkusen|   3|   0|  H|             2|     Dortmund|\n",
            "|      27| D1|  2009|2010-03-20|     Dortmund|Leverkusen|   3|   0|  H|             3|   Leverkusen|\n",
            "|      28| D1|  2009|2009-10-31|   Schalke 04|Leverkusen|   2|   2|  D|             3|   Leverkusen|\n",
            "|      28| D1|  2009|2009-10-31|   Schalke 04|Leverkusen|   2|   2|  D|             5|   Schalke 04|\n",
            "|      29| D1|  2009|2009-08-22|     Freiburg|Leverkusen|   0|   5|  A|             3|   Leverkusen|\n",
            "|      29| D1|  2009|2009-08-22|     Freiburg|Leverkusen|   0|   5|  A|            16|     Freiburg|\n",
            "|      30| D1|  2009|2010-02-21|Werder Bremen|Leverkusen|   2|   2|  D|             3|   Leverkusen|\n",
            "|      30| D1|  2009|2010-02-21|Werder Bremen|Leverkusen|   2|   2|  D|            13|Werder Bremen|\n",
            "+--------+---+------+----------+-------------+----------+----+----+---+--------------+-------------+\n",
            "only showing top 20 rows\n",
            "\n"
          ]
        }
      ]
    },
    {
      "cell_type": "code",
      "source": [
        "from pyspark.sql.functions import current_date\n",
        "from pyspark.sql.functions import date_add\n",
        "from pyspark.sql.functions import date_trunc\n"
      ],
      "metadata": {
        "id": "9bkKu3c6t-nm"
      },
      "execution_count": null,
      "outputs": []
    },
    {
      "cell_type": "code",
      "source": [
        "start_date = spark.sql(\"\"\"\n",
        "    SELECT date_format(\n",
        "        date_add(date_trunc('year', date_add(current_date(), -(365*20))), 0),\n",
        "        'yyyy-MM-dd'\n",
        "    ) as start\n",
        "\"\"\")\n"
      ],
      "metadata": {
        "id": "CdB00M0hu64T"
      },
      "execution_count": null,
      "outputs": []
    },
    {
      "cell_type": "code",
      "source": [
        "end_date = spark.sql(\"\"\"\n",
        "    SELECT date_format(\n",
        "        date_add(date_trunc('year', date_add(current_date(), -(365*10))), 0),\n",
        "        'yyyy-MM-dd'\n",
        "    ) as start\n",
        "\"\"\")"
      ],
      "metadata": {
        "id": "ZDAOReCavitU"
      },
      "execution_count": null,
      "outputs": []
    },
    {
      "cell_type": "markdown",
      "source": [
        "d1 dataset includes only last decade records of D1 division"
      ],
      "metadata": {
        "id": "EqEgWkRmlfJQ"
      }
    },
    {
      "cell_type": "code",
      "source": [
        "d1 = division_D1.filter( (division_D1.Date >= start_date.first()[0]) & (division_D1.Date <= end_date.first()[0]) )\n"
      ],
      "metadata": {
        "id": "iCP21OvLdEgB"
      },
      "execution_count": null,
      "outputs": []
    },
    {
      "cell_type": "code",
      "source": [
        "d1.show()"
      ],
      "metadata": {
        "id": "JB7db8hgsEc3",
        "colab": {
          "base_uri": "https://localhost:8080/"
        },
        "outputId": "50ab3d0f-9579-403d-c0c7-b8e67202dc17"
      },
      "execution_count": null,
      "outputs": [
        {
          "output_type": "stream",
          "name": "stdout",
          "text": [
            "+--------+---+------+----------+-------------+----------+----+----+---+--------------+-------------+\n",
            "|Match_ID|Div|Season|      Date|     HomeTeam|  AwayTeam|FTHG|FTAG|FTR|Unique_Team_ID|     TeamName|\n",
            "+--------+---+------+----------+-------------+----------+----+----+---+--------------+-------------+\n",
            "|      21| D1|  2009|2010-02-06|       Bochum|Leverkusen|   1|   1|  D|             3|   Leverkusen|\n",
            "|      21| D1|  2009|2010-02-06|       Bochum|Leverkusen|   1|   1|  D|            28|       Bochum|\n",
            "|      22| D1|  2009|2009-11-22|Bayern Munich|Leverkusen|   1|   1|  D|             1|Bayern Munich|\n",
            "|      22| D1|  2009|2009-11-22|Bayern Munich|Leverkusen|   1|   1|  D|             3|   Leverkusen|\n",
            "|      23| D1|  2009|2010-05-08|   M'gladbach|Leverkusen|   1|   1|  D|             3|   Leverkusen|\n",
            "|      23| D1|  2009|2010-05-08|   M'gladbach|Leverkusen|   1|   1|  D|             6|   M'gladbach|\n",
            "|      24| D1|  2009|2009-08-08|        Mainz|Leverkusen|   2|   2|  D|             3|   Leverkusen|\n",
            "|      24| D1|  2009|2009-08-08|        Mainz|Leverkusen|   2|   2|  D|            11|        Mainz|\n",
            "|      25| D1|  2009|2009-10-17|      Hamburg|Leverkusen|   0|   0|  D|             3|   Leverkusen|\n",
            "|      25| D1|  2009|2009-10-17|      Hamburg|Leverkusen|   0|   0|  D|            12|      Hamburg|\n",
            "|      26| D1|  2009|2010-04-17|    Stuttgart|Leverkusen|   2|   1|  H|             3|   Leverkusen|\n",
            "|      26| D1|  2009|2010-04-17|    Stuttgart|Leverkusen|   2|   1|  H|            17|    Stuttgart|\n",
            "|      27| D1|  2009|2010-03-20|     Dortmund|Leverkusen|   3|   0|  H|             2|     Dortmund|\n",
            "|      27| D1|  2009|2010-03-20|     Dortmund|Leverkusen|   3|   0|  H|             3|   Leverkusen|\n",
            "|      28| D1|  2009|2009-10-31|   Schalke 04|Leverkusen|   2|   2|  D|             3|   Leverkusen|\n",
            "|      28| D1|  2009|2009-10-31|   Schalke 04|Leverkusen|   2|   2|  D|             5|   Schalke 04|\n",
            "|      29| D1|  2009|2009-08-22|     Freiburg|Leverkusen|   0|   5|  A|             3|   Leverkusen|\n",
            "|      29| D1|  2009|2009-08-22|     Freiburg|Leverkusen|   0|   5|  A|            16|     Freiburg|\n",
            "|      30| D1|  2009|2010-02-21|Werder Bremen|Leverkusen|   2|   2|  D|             3|   Leverkusen|\n",
            "|      30| D1|  2009|2010-02-21|Werder Bremen|Leverkusen|   2|   2|  D|            13|Werder Bremen|\n",
            "+--------+---+------+----------+-------------+----------+----+----+---+--------------+-------------+\n",
            "only showing top 20 rows\n",
            "\n"
          ]
        }
      ]
    },
    {
      "cell_type": "code",
      "source": [
        "from pyspark.sql.functions import when, col, sum, rank\n",
        "from pyspark.sql.window import Window\n",
        "from pyspark.sql import functions as F"
      ],
      "metadata": {
        "id": "9Z7aSCn-A7wv"
      },
      "execution_count": null,
      "outputs": []
    },
    {
      "cell_type": "markdown",
      "source": [
        "Calculate points for home and away teams based on match results"
      ],
      "metadata": {
        "id": "3Fs_oGbWJOMj"
      }
    },
    {
      "cell_type": "code",
      "source": [
        "d1 = d1.withColumn(\"HomePoints\", when(col(\"FTR\") == \"H\", 3).otherwise(when(col(\"FTR\") == \"D\", 1).otherwise(0)))\n",
        "d1 = d1.withColumn(\"AwayPoints\", when(col(\"FTR\") == \"A\", 3).otherwise(when(col(\"FTR\") == \"D\", 1).otherwise(0)))\n"
      ],
      "metadata": {
        "id": "jm5-lCG9A9lR"
      },
      "execution_count": null,
      "outputs": []
    },
    {
      "cell_type": "markdown",
      "source": [
        "Convert the points columns to integers"
      ],
      "metadata": {
        "id": "w3gixDh7JJ_I"
      }
    },
    {
      "cell_type": "code",
      "source": [
        "d1 = d1.withColumn(\"HomePoints\", d1[\"HomePoints\"].cast(\"int\"))\n",
        "d1 = d1.withColumn(\"AwayPoints\", d1[\"AwayPoints\"].cast(\"int\"))"
      ],
      "metadata": {
        "id": "0fA7rCVzH3uV"
      },
      "execution_count": null,
      "outputs": []
    },
    {
      "cell_type": "markdown",
      "source": [
        "Calculate total points for home and away teams"
      ],
      "metadata": {
        "id": "bVzFXv7UJVA_"
      }
    },
    {
      "cell_type": "code",
      "source": [
        "d1 = d1.withColumn(\"TotalHomePoints\", sum(\"HomePoints\").over(Window.partitionBy(\"Season\", \"HomeTeam\")))\n",
        "d1 = d1.withColumn(\"TotalAwayPoints\", sum(\"AwayPoints\").over(Window.partitionBy(\"Season\", \"AwayTeam\")))\n"
      ],
      "metadata": {
        "id": "wXCthzXaHUJn"
      },
      "execution_count": null,
      "outputs": []
    },
    {
      "cell_type": "code",
      "source": [
        "d1 = d1.withColumn(\"TotalPoints\", d1[\"TotalHomePoints\"] + d1[\"TotalAwayPoints\"])\n"
      ],
      "metadata": {
        "id": "qg01NYDUIReA"
      },
      "execution_count": null,
      "outputs": []
    },
    {
      "cell_type": "markdown",
      "source": [
        "Find the winner for each season"
      ],
      "metadata": {
        "id": "EnlP34RDJWrH"
      }
    },
    {
      "cell_type": "code",
      "source": [
        "windowSpec = Window.partitionBy(\"Season\").orderBy(F.desc(\"TotalPoints\"))\n",
        "winners = d1.withColumn(\"Rank\",\n",
        "                        F.row_number().over(windowSpec)).filter(col(\"Rank\") == 1).select(\"Season\", \"HomeTeam\", \"AwayTeam\", \"TotalPoints\")"
      ],
      "metadata": {
        "id": "mlPrkTLFIbvU"
      },
      "execution_count": null,
      "outputs": []
    },
    {
      "cell_type": "markdown",
      "source": [
        "Q1_ANS : the winners for each season"
      ],
      "metadata": {
        "id": "ROlD0B_NJgWR"
      }
    },
    {
      "cell_type": "code",
      "source": [
        "winners.show()"
      ],
      "metadata": {
        "colab": {
          "base_uri": "https://localhost:8080/"
        },
        "id": "7Z68_4MmImwa",
        "outputId": "07019633-f693-4b74-daa2-f791d98a494f"
      },
      "execution_count": null,
      "outputs": [
        {
          "output_type": "stream",
          "name": "stdout",
          "text": [
            "+------+-------------+-------------+-----------+\n",
            "|Season|     HomeTeam|     AwayTeam|TotalPoints|\n",
            "+------+-------------+-------------+-----------+\n",
            "|  2002|       Hertha|Bayern Munich|         78|\n",
            "|  2003|Bayern Munich|Werder Bremen|        158|\n",
            "|  2004|   Leverkusen|Bayern Munich|        144|\n",
            "|  2005|Bayern Munich|      Hamburg|        160|\n",
            "|  2006|   Schalke 04|Werder Bremen|        146|\n",
            "|  2007|Werder Bremen|Bayern Munich|        148|\n",
            "|  2008|    Wolfsburg|Bayern Munich|        156|\n",
            "|  2009|Bayern Munich|Werder Bremen|        142|\n",
            "|  2010|Bayern Munich|   Leverkusen|        154|\n",
            "|  2011|Bayern Munich|     Dortmund|        160|\n",
            "|  2012|   Schalke 04|Bayern Munich|         78|\n",
            "+------+-------------+-------------+-----------+\n",
            "\n"
          ]
        }
      ]
    },
    {
      "cell_type": "markdown",
      "source": [
        "#2. Which teams have been relegated in the past 10 years?"
      ],
      "metadata": {
        "id": "tDl23pokKUp0"
      }
    },
    {
      "cell_type": "code",
      "source": [
        "start_date_2 = spark.sql(\"\"\"\n",
        "    SELECT date_format(\n",
        "        date_add(date_trunc('year', date_add(current_date(), -(365*10))), 0),\n",
        "        'yyyy-MM-dd'\n",
        "    ) as start\n",
        "\"\"\")"
      ],
      "metadata": {
        "id": "QVt11LLDKe3O"
      },
      "execution_count": null,
      "outputs": []
    },
    {
      "cell_type": "code",
      "source": [
        "end_date_2 = spark.sql(\"\"\"\n",
        "    SELECT date_format(\n",
        "        date_add(date_trunc('year', date_add(current_date(), 0)), 0),\n",
        "        'yyyy-MM-dd'\n",
        "    ) as start\n",
        "\"\"\")"
      ],
      "metadata": {
        "id": "x2Gj6tgiK56I"
      },
      "execution_count": null,
      "outputs": []
    },
    {
      "cell_type": "code",
      "source": [
        "d2 = matches_team_details.filter( (matches_team_details.Date >= start_date_2.first()[0]) & (matches_team_details.Date <= end_date_2.first()[0]) )\n"
      ],
      "metadata": {
        "id": "tPfcz7yALL2d"
      },
      "execution_count": null,
      "outputs": []
    },
    {
      "cell_type": "code",
      "source": [
        "d2 = d2.withColumn(\"HomePoints\", when(col(\"FTR\") == \"H\", 3).otherwise(when(col(\"FTR\") == \"D\", 1).otherwise(0)))\n",
        "d2 = d2.withColumn(\"AwayPoints\", when(col(\"FTR\") == \"A\", 3).otherwise(when(col(\"FTR\") == \"D\", 1).otherwise(0)))\n"
      ],
      "metadata": {
        "id": "nr0mybusm4Ii"
      },
      "execution_count": null,
      "outputs": []
    },
    {
      "cell_type": "code",
      "source": [
        "d2 = d2.withColumn(\"HomePoints\", d2[\"HomePoints\"].cast(\"int\"))\n",
        "d2 = d2.withColumn(\"AwayPoints\", d2[\"AwayPoints\"].cast(\"int\"))"
      ],
      "metadata": {
        "id": "0_-C78pZnAgL"
      },
      "execution_count": null,
      "outputs": []
    },
    {
      "cell_type": "code",
      "source": [
        "d2 = d2.withColumn(\"TotalHomePoints\", sum(\"HomePoints\").over(Window.partitionBy(\"Season\", \"HomeTeam\")))\n",
        "d2 = d2.withColumn(\"TotalAwayPoints\", sum(\"AwayPoints\").over(Window.partitionBy(\"Season\", \"AwayTeam\")))\n"
      ],
      "metadata": {
        "id": "pz5K7iTlnD67"
      },
      "execution_count": null,
      "outputs": []
    },
    {
      "cell_type": "code",
      "source": [
        "d2 = d2.withColumn(\"TotalPoints\", d2[\"TotalHomePoints\"] + d2[\"TotalAwayPoints\"])\n"
      ],
      "metadata": {
        "id": "zjo6a0VpnIVi"
      },
      "execution_count": null,
      "outputs": []
    },
    {
      "cell_type": "markdown",
      "source": [
        "Create a DataFrame with the total points for each team in each season"
      ],
      "metadata": {
        "id": "RyVf0G3LN76a"
      }
    },
    {
      "cell_type": "code",
      "source": [
        "points_d2 = d2.select('Season', 'HomeTeam', 'AwayTeam', 'TotalPoints')"
      ],
      "metadata": {
        "id": "i4h_QMyXL55E"
      },
      "execution_count": null,
      "outputs": []
    },
    {
      "cell_type": "markdown",
      "source": [
        "Find the teams with the lowest points in each season"
      ],
      "metadata": {
        "id": "UA7GVAYeN4kZ"
      }
    },
    {
      "cell_type": "code",
      "source": [
        "lowest_points = points_d2.groupBy(\"Season\", \"HomeTeam\").min(\"TotalPoints\").withColumnRenamed(\"min(TotalPoints)\", \"TotalPoints\")"
      ],
      "metadata": {
        "id": "acCgaFriNT2M"
      },
      "execution_count": null,
      "outputs": []
    },
    {
      "cell_type": "markdown",
      "source": [
        "Identify the relegated teams based on a threshold (adjust as needed)"
      ],
      "metadata": {
        "id": "Wyo3zqBjN1XL"
      }
    },
    {
      "cell_type": "code",
      "source": [
        "relegated_teams = lowest_points.filter(col(\"TotalPoints\") <= 30).select(\"HomeTeam\").rdd.flatMap(lambda x: x).collect()"
      ],
      "metadata": {
        "id": "zvVIlCp_NYCP"
      },
      "execution_count": null,
      "outputs": []
    },
    {
      "cell_type": "markdown",
      "source": [
        "Remove duplicates from the list of relegated teams"
      ],
      "metadata": {
        "id": "-DlJHXeINx9u"
      }
    },
    {
      "cell_type": "code",
      "source": [
        "relegated_teams = list(set(relegated_teams))"
      ],
      "metadata": {
        "id": "EKmejp5cNfkO"
      },
      "execution_count": null,
      "outputs": []
    },
    {
      "cell_type": "markdown",
      "source": [
        "Display the list of relegated teams"
      ],
      "metadata": {
        "id": "8UeBJrlvNu_g"
      }
    },
    {
      "cell_type": "code",
      "source": [
        "print(\"Relegated Teams in the Past 10 Years:\")\n",
        "for team in relegated_teams:\n",
        "    print(team)"
      ],
      "metadata": {
        "colab": {
          "base_uri": "https://localhost:8080/"
        },
        "id": "ZuYh3U0eNjOB",
        "outputId": "9f93e3a2-c7ed-4070-f712-30af9ba1cac3"
      },
      "execution_count": null,
      "outputs": [
        {
          "output_type": "stream",
          "name": "stdout",
          "text": [
            "Relegated Teams in the Past 10 Years:\n",
            "Werder Bremen\n",
            "Fortuna Dusseldorf\n",
            "Braunschweig\n",
            "Aston Villa\n",
            "QPR\n",
            "Sandhausen\n",
            "Wigan\n",
            "West Brom\n",
            "Munich 1860\n",
            "Reading\n",
            "Stuttgart\n",
            "Bochum\n",
            "Hamburg\n",
            "Greuther Furth\n",
            "Fulham\n",
            "Freiburg\n",
            "Erzgebirge Aue\n",
            "Stoke\n",
            "Mainz\n",
            "Wolfsburg\n",
            "Hoffenheim\n",
            "Ingolstadt\n",
            "Ein Frankfurt\n",
            "Regensburg\n"
          ]
        }
      ]
    },
    {
      "cell_type": "markdown",
      "source": [
        "#3. Which season of Bundesliga was the most competitive in the last decade?"
      ],
      "metadata": {
        "id": "ptOpiJk1qUVD"
      }
    },
    {
      "cell_type": "code",
      "source": [
        "start_date_3 = spark.sql(\"\"\"\n",
        "    SELECT date_format(\n",
        "        date_add(date_trunc('year', date_add(current_date(), -(365*20))), 0),\n",
        "        'yyyy-MM-dd'\n",
        "    ) as start\n",
        "\"\"\")"
      ],
      "metadata": {
        "id": "J7wDAkEOqQ0h"
      },
      "execution_count": null,
      "outputs": []
    },
    {
      "cell_type": "code",
      "source": [
        "end_date_3 = spark.sql(\"\"\"\n",
        "    SELECT date_format(\n",
        "        date_add(date_trunc('year', date_add(current_date(), -(365*10))), 0),\n",
        "        'yyyy-MM-dd'\n",
        "    ) as start\n",
        "\"\"\")"
      ],
      "metadata": {
        "id": "Qsp7-FcRqZYl"
      },
      "execution_count": null,
      "outputs": []
    },
    {
      "cell_type": "code",
      "source": [
        "matches_total_score = matches_team_details"
      ],
      "metadata": {
        "id": "rRLgEXuUgFwD"
      },
      "execution_count": null,
      "outputs": []
    },
    {
      "cell_type": "code",
      "source": [
        "matches_total_score.show()"
      ],
      "metadata": {
        "id": "E1Qa_IQcgHHH"
      },
      "execution_count": null,
      "outputs": []
    },
    {
      "cell_type": "code",
      "source": [
        "matches_total_score = matches_total_score.withColumn(\"HomePoints\", when(col(\"FTR\") == \"H\", 3).otherwise(when(col(\"FTR\") == \"D\", 1).otherwise(0)))\n",
        "matches_total_score = matches_total_score.withColumn(\"AwayPoints\", when(col(\"FTR\") == \"A\", 3).otherwise(when(col(\"FTR\") == \"D\", 1).otherwise(0)))\n"
      ],
      "metadata": {
        "id": "jJr1oAOBgK9d"
      },
      "execution_count": null,
      "outputs": []
    },
    {
      "cell_type": "code",
      "source": [
        "matches_total_score = matches_total_score.withColumn(\"HomePoints\", matches_total_score[\"HomePoints\"].cast(\"int\"))\n",
        "matches_total_score = matches_total_score.withColumn(\"AwayPoints\", matches_total_score[\"AwayPoints\"].cast(\"int\"))"
      ],
      "metadata": {
        "id": "CFRmE5oOgRLQ"
      },
      "execution_count": null,
      "outputs": []
    },
    {
      "cell_type": "code",
      "source": [
        "matches_total_score = matches_total_score.withColumn(\"TotalHomePoints\", sum(\"HomePoints\").over(Window.partitionBy(\"Season\", \"HomeTeam\")))\n",
        "matches_total_score = matches_total_score.withColumn(\"TotalAwayPoints\", sum(\"AwayPoints\").over(Window.partitionBy(\"Season\", \"AwayTeam\")))\n"
      ],
      "metadata": {
        "id": "AJaPP8BNgUs-"
      },
      "execution_count": null,
      "outputs": []
    },
    {
      "cell_type": "code",
      "source": [
        "matches_total_score = matches_total_score.withColumn(\"TotalPoints\", matches_total_score[\"TotalHomePoints\"] + matches_total_score[\"TotalAwayPoints\"])\n"
      ],
      "metadata": {
        "id": "tzn6mrF9gaan"
      },
      "execution_count": null,
      "outputs": []
    },
    {
      "cell_type": "code",
      "source": [
        "matches_total_score.show()"
      ],
      "metadata": {
        "colab": {
          "base_uri": "https://localhost:8080/"
        },
        "id": "91du3tBYgbYu",
        "outputId": "b8ac88f7-ccdd-4a52-d9d5-48dfcd80d231"
      },
      "execution_count": null,
      "outputs": [
        {
          "output_type": "stream",
          "name": "stdout",
          "text": [
            "+--------+---+------+----------+----------------+--------+----+----+---+--------------+----------------+----------+----------+---------------+---------------+-----------+\n",
            "|Match_ID|Div|Season|      Date|        HomeTeam|AwayTeam|FTHG|FTAG|FTR|Unique_Team_ID|        TeamName|HomePoints|AwayPoints|TotalHomePoints|TotalAwayPoints|TotalPoints|\n",
            "+--------+---+------+----------+----------------+--------+----+----+---+--------------+----------------+----------+----------+---------------+---------------+-----------+\n",
            "|   37908| E0|  1993|1994-04-23|     Aston Villa| Arsenal|   1|   2|  A|            82|     Aston Villa|         0|         3|             58|             66|        124|\n",
            "|   37908| E0|  1993|1994-04-23|     Aston Villa| Arsenal|   1|   2|  A|            81|         Arsenal|         0|         3|             58|             66|        124|\n",
            "|   37647| E0|  1993|1993-11-20|         Chelsea| Arsenal|   0|   2|  A|            83|         Chelsea|         0|         3|             76|             66|        142|\n",
            "|   37647| E0|  1993|1993-11-20|         Chelsea| Arsenal|   0|   2|  A|            81|         Arsenal|         0|         3|             76|             66|        142|\n",
            "|   37677| E0|  1993|1993-12-04|        Coventry| Arsenal|   1|   0|  H|            98|        Coventry|         3|         0|             68|             66|        134|\n",
            "|   37677| E0|  1993|1993-12-04|        Coventry| Arsenal|   1|   0|  H|            81|         Arsenal|         3|         0|             68|             66|        134|\n",
            "|   37798| E0|  1993|1994-02-19|         Everton| Arsenal|   1|   1|  D|            93|         Everton|         1|         1|             56|             66|        122|\n",
            "|   37798| E0|  1993|1994-02-19|         Everton| Arsenal|   1|   1|  D|            81|         Arsenal|         1|         1|             56|             66|        122|\n",
            "|   37711| E0|  1993|1993-12-18|           Leeds| Arsenal|   2|   1|  H|            95|           Leeds|         3|         0|             90|             66|        156|\n",
            "|   37711| E0|  1993|1993-12-18|           Leeds| Arsenal|   2|   1|  H|            81|         Arsenal|         3|         0|             90|             66|        156|\n",
            "|   37946| E0|  1993|1994-05-07|       Newcastle| Arsenal|   2|   0|  H|            86|       Newcastle|         3|         0|             92|             66|        158|\n",
            "|   37946| E0|  1993|1994-05-07|       Newcastle| Arsenal|   2|   0|  H|            81|         Arsenal|         3|         0|             92|             66|        158|\n",
            "|   37794| E0|  1993|1994-02-13|         Norwich| Arsenal|   1|   1|  D|            91|         Norwich|         1|         1|             42|             66|        108|\n",
            "|   37794| E0|  1993|1994-02-13|         Norwich| Arsenal|   1|   1|  D|            81|         Arsenal|         1|         1|             42|             66|        108|\n",
            "|   37923| E0|  1993|1994-04-27|             QPR| Arsenal|   1|   1|  D|           100|             QPR|         1|         1|             62|             66|        128|\n",
            "|   37923| E0|  1993|1994-04-27|             QPR| Arsenal|   1|   1|  D|            81|         Arsenal|         1|         1|             62|             66|        128|\n",
            "|   37883| E0|  1993|1994-04-04|Sheffield United| Arsenal|   1|   1|  D|            88|Sheffield United|         1|         1|             56|             66|        122|\n",
            "|   37883| E0|  1993|1994-04-04|Sheffield United| Arsenal|   1|   1|  D|            81|         Arsenal|         1|         1|             56|             66|        122|\n",
            "|   37841| E0|  1993|1994-03-19|     Southampton| Arsenal|   0|   4|  A|            89|     Southampton|         0|         3|             58|             66|        124|\n",
            "|   37841| E0|  1993|1994-03-19|     Southampton| Arsenal|   0|   4|  A|            81|         Arsenal|         0|         3|             58|             66|        124|\n",
            "+--------+---+------+----------+----------------+--------+----+----+---+--------------+----------------+----------+----------+---------------+---------------+-----------+\n",
            "only showing top 20 rows\n",
            "\n"
          ]
        }
      ]
    },
    {
      "cell_type": "code",
      "source": [
        "d4 = matches_total_score.filter( (matches_total_score.Date >= start_date_3.first()[0]) & (matches_total_score.Date <= end_date_3.first()[0]) )"
      ],
      "metadata": {
        "id": "tm8BWF0Mqc-V"
      },
      "execution_count": null,
      "outputs": []
    },
    {
      "cell_type": "code",
      "source": [
        "d4.show(3)"
      ],
      "metadata": {
        "colab": {
          "base_uri": "https://localhost:8080/"
        },
        "id": "2pttbkK9qqhb",
        "outputId": "bda71f3e-dea3-44ab-921f-e4b5f6b9c299"
      },
      "execution_count": null,
      "outputs": [
        {
          "output_type": "stream",
          "name": "stdout",
          "text": [
            "+--------+---+------+----------+-----------+--------+----+----+---+--------------+-----------+----------+----------+---------------+---------------+-----------+\n",
            "|Match_ID|Div|Season|      Date|   HomeTeam|AwayTeam|FTHG|FTAG|FTR|Unique_Team_ID|   TeamName|HomePoints|AwayPoints|TotalHomePoints|TotalAwayPoints|TotalPoints|\n",
            "+--------+---+------+----------+-----------+--------+----+----+---+--------------+-----------+----------+----------+---------------+---------------+-----------+\n",
            "|   41385| E0|  2002|2003-04-05|Aston Villa| Arsenal|   1|   1|  D|            82|Aston Villa|         1|         1|             70|             62|        132|\n",
            "|   41385| E0|  2002|2003-04-05|Aston Villa| Arsenal|   1|   1|  D|            81|    Arsenal|         1|         1|             70|             62|        132|\n",
            "|   41300| E0|  2002|2003-01-12| Birmingham| Arsenal|   0|   4|  A|           115| Birmingham|         0|         3|             58|             62|        120|\n",
            "+--------+---+------+----------+-----------+--------+----+----+---+--------------+-----------+----------+----------+---------------+---------------+-----------+\n",
            "only showing top 3 rows\n",
            "\n"
          ]
        }
      ]
    },
    {
      "cell_type": "code",
      "source": [
        "from pyspark.sql.functions import min, max"
      ],
      "metadata": {
        "id": "UBKiKv_fvibD"
      },
      "execution_count": null,
      "outputs": []
    },
    {
      "cell_type": "markdown",
      "source": [
        " Calculate the total points for each team in each season"
      ],
      "metadata": {
        "id": "q1BMTSiMtzUq"
      }
    },
    {
      "cell_type": "code",
      "source": [
        "team_season_points = d4.groupBy(\"Season\", \"HomeTeam\").sum(\"HomePoints\").withColumnRenamed(\"sum(HomePoints)\", \"TotalPoints\")"
      ],
      "metadata": {
        "id": "6YskpQRDtUuB"
      },
      "execution_count": null,
      "outputs": []
    },
    {
      "cell_type": "markdown",
      "source": [
        "Define a window specification to rank teams within each season based on total points"
      ],
      "metadata": {
        "id": "u-QSAHmatviq"
      }
    },
    {
      "cell_type": "code",
      "source": [
        "windowSpec_4 = Window.partitionBy(\"Season\").orderBy(col(\"TotalPoints\").desc())"
      ],
      "metadata": {
        "id": "0Kcvscz4ttBR"
      },
      "execution_count": null,
      "outputs": []
    },
    {
      "cell_type": "markdown",
      "source": [
        "Rank teams within each season"
      ],
      "metadata": {
        "id": "hDf-EU6xt-kn"
      }
    },
    {
      "cell_type": "code",
      "source": [
        "ranked_teams = team_season_points.withColumn(\"Rank\", rank().over(windowSpec))\n"
      ],
      "metadata": {
        "id": "B6Z4a34xt5ez"
      },
      "execution_count": null,
      "outputs": []
    },
    {
      "cell_type": "markdown",
      "source": [
        "Filter for top teams"
      ],
      "metadata": {
        "id": "Q0BLnMwwuZqk"
      }
    },
    {
      "cell_type": "code",
      "source": [
        "top_teams_per_season = ranked_teams.filter(col(\"Rank\") <= 5)  # Consider the top 5 teams"
      ],
      "metadata": {
        "id": "oIT8KmbyuRfN"
      },
      "execution_count": null,
      "outputs": []
    },
    {
      "cell_type": "code",
      "source": [
        "top_teams_per_season.show()"
      ],
      "metadata": {
        "colab": {
          "base_uri": "https://localhost:8080/"
        },
        "id": "5_3ZI1RRu5qB",
        "outputId": "8339b6f2-3141-4fc3-f39a-b481addf8ac8"
      },
      "execution_count": null,
      "outputs": [
        {
          "output_type": "stream",
          "name": "stdout",
          "text": [
            "+------+--------------+-----------+----+\n",
            "|Season|      HomeTeam|TotalPoints|Rank|\n",
            "+------+--------------+-----------+----+\n",
            "|  2002|       Hamburg|         50|   1|\n",
            "|  2002|    Man United|         44|   2|\n",
            "|  2002|        Hertha|         44|   2|\n",
            "|  2002|        Lubeck|         40|   4|\n",
            "|  2002|    M'gladbach|         40|   4|\n",
            "|  2002|Greuther Furth|         40|   4|\n",
            "|  2002|      Dortmund|         40|   4|\n",
            "|  2002|       Chelsea|         40|   4|\n",
            "|  2002|      Freiburg|         40|   4|\n",
            "|  2002|     Newcastle|         40|   4|\n",
            "|  2003|       Arsenal|         98|   1|\n",
            "|  2003| Bayern Munich|         84|   2|\n",
            "|  2003|    Man United|         80|   3|\n",
            "|  2003|       Chelsea|         80|   3|\n",
            "|  2003|      Dortmund|         78|   5|\n",
            "|  2003|      Nurnberg|         78|   5|\n",
            "|  2004|       Chelsea|         94|   1|\n",
            "|  2004|       Arsenal|         88|   2|\n",
            "|  2004| Bayern Munich|         88|   2|\n",
            "|  2004|    Man United|         84|   4|\n",
            "+------+--------------+-----------+----+\n",
            "only showing top 20 rows\n",
            "\n"
          ]
        }
      ]
    },
    {
      "cell_type": "code",
      "source": [
        "# Calculate the points difference among the top teams in each season\n",
        "points_difference_per_season = top_teams_per_season.groupBy('Season').agg( max(col('TotalPoints')) - min(col('TotalPoints'))).alias(\"PointsDifference\")"
      ],
      "metadata": {
        "id": "YWN86n31vLNE"
      },
      "execution_count": null,
      "outputs": []
    },
    {
      "cell_type": "code",
      "source": [
        "points_difference_per_season.show()"
      ],
      "metadata": {
        "colab": {
          "base_uri": "https://localhost:8080/"
        },
        "id": "YFdzeIJpxJSq",
        "outputId": "6d294947-7d0d-4eca-f102-d08b03132737"
      },
      "execution_count": null,
      "outputs": [
        {
          "output_type": "stream",
          "name": "stdout",
          "text": [
            "+------+-------------------------------------+\n",
            "|Season|(max(TotalPoints) - min(TotalPoints))|\n",
            "+------+-------------------------------------+\n",
            "|  2002|                                   10|\n",
            "|  2003|                                   20|\n",
            "|  2004|                                   10|\n",
            "|  2005|                                   22|\n",
            "|  2006|                                   12|\n",
            "|  2007|                                   22|\n",
            "|  2008|                                   22|\n",
            "|  2009|                                   18|\n",
            "|  2010|                                   30|\n",
            "|  2011|                                   24|\n",
            "|  2012|                                   14|\n",
            "+------+-------------------------------------+\n",
            "\n"
          ]
        }
      ]
    },
    {
      "cell_type": "code",
      "source": [
        "# Find the season with the smallest points difference among the top teams\n",
        "most_competitive_season = points_difference_per_season.orderBy('(max(TotalPoints) - min(TotalPoints))')"
      ],
      "metadata": {
        "id": "YPJUlxTgw2aA"
      },
      "execution_count": null,
      "outputs": []
    },
    {
      "cell_type": "code",
      "source": [
        "print(\"The most competitive season in the last decade was:\")\n",
        "most_competitive_season.first()[0]"
      ],
      "metadata": {
        "colab": {
          "base_uri": "https://localhost:8080/"
        },
        "id": "elzk8fJDxuZb",
        "outputId": "b0fbeac5-2b55-432e-bfad-1fc3333b90c5"
      },
      "execution_count": null,
      "outputs": [
        {
          "output_type": "stream",
          "name": "stdout",
          "text": [
            "The most competitive season in the last decade was:\n"
          ]
        },
        {
          "output_type": "execute_result",
          "data": {
            "text/plain": [
              "2002"
            ]
          },
          "metadata": {},
          "execution_count": 70
        }
      ]
    },
    {
      "cell_type": "markdown",
      "source": [
        "\n",
        "#4. What's the best month to watch Bundesliga?"
      ],
      "metadata": {
        "id": "VJUR1V3xy4CZ"
      }
    },
    {
      "cell_type": "code",
      "source": [
        "from pyspark.sql.functions import month, avg"
      ],
      "metadata": {
        "id": "h45mdRT2zSMq"
      },
      "execution_count": null,
      "outputs": []
    },
    {
      "cell_type": "code",
      "source": [
        "matches_total_score = matches_total_score.withColumn(\"Month\", month(matches_total_score[\"Date\"]))"
      ],
      "metadata": {
        "id": "EezC8KwHyMjr"
      },
      "execution_count": null,
      "outputs": []
    },
    {
      "cell_type": "code",
      "source": [
        "# Calculate the average number of goals scored per match for each month\n",
        "avg_goals_per_month = matches_total_score.groupBy(\"Month\").agg(avg((matches_total_score[\"FTHG\"] + matches_total_score[\"FTAG\"])).alias(\"AvgGoalsPerMatch\"))"
      ],
      "metadata": {
        "id": "51pwo4lNy9Vp"
      },
      "execution_count": null,
      "outputs": []
    },
    {
      "cell_type": "code",
      "source": [
        "# Find the month with the highest average number of goals scored per match\n",
        "best_month = avg_goals_per_month.orderBy(\"AvgGoalsPerMatch\", ascending=False).first()\n"
      ],
      "metadata": {
        "id": "GUFScNj_y-ML"
      },
      "execution_count": null,
      "outputs": []
    },
    {
      "cell_type": "code",
      "source": [
        "best_month"
      ],
      "metadata": {
        "colab": {
          "base_uri": "https://localhost:8080/"
        },
        "id": "gcSTpiPJzf05",
        "outputId": "d57a8db7-f1e1-4416-bfe2-ba665e9183b4"
      },
      "execution_count": null,
      "outputs": [
        {
          "output_type": "execute_result",
          "data": {
            "text/plain": [
              "Row(Month=6, AvgGoalsPerMatch=3.4007936507936507)"
            ]
          },
          "metadata": {},
          "execution_count": 75
        }
      ]
    },
    {
      "cell_type": "code",
      "source": [
        "print(\"The best month to watch the Bundesliga is month\", best_month[\"Month\"])"
      ],
      "metadata": {
        "colab": {
          "base_uri": "https://localhost:8080/"
        },
        "id": "dkFjMvI6zBKM",
        "outputId": "9e15365e-583a-400a-c573-40766da36b7e"
      },
      "execution_count": null,
      "outputs": [
        {
          "output_type": "stream",
          "name": "stdout",
          "text": [
            "The best month to watch the Bundesliga is month 6\n"
          ]
        }
      ]
    }
  ],
  "metadata": {
    "colab": {
      "provenance": []
    },
    "kernelspec": {
      "display_name": "Python 3",
      "name": "python3"
    },
    "language_info": {
      "name": "python"
    }
  },
  "nbformat": 4,
  "nbformat_minor": 0
}